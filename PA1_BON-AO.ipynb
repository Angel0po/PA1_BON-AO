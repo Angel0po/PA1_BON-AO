{
 "cells": [
  {
   "cell_type": "markdown",
   "id": "cc3fb154-665a-47c3-94f4-47c890971d20",
   "metadata": {},
   "source": [
    "## Programming Assignment 1"
   ]
  },
  {
   "cell_type": "markdown",
   "id": "a96aa814-8161-480f-abb0-2f8ac665f464",
   "metadata": {},
   "source": [
    "#### ALPHABET SOUP PROBLEM: Create a function that takes a string and returns a string with its letters\n",
    "#### in alphabetical order."
   ]
  },
  {
   "cell_type": "code",
   "execution_count": null,
   "id": "effaefa2-aed5-443f-91d9-251dc61022cc",
   "metadata": {},
   "outputs": [],
   "source": [
    "#start\n",
    "\n",
    "#function for sorting word\n",
    "def alphabet_soup(word):\n",
    "    return \"\".join(sorted(word)) #sorts words and pastes sorted letters into one string\n",
    "\n",
    "entered = input(\"Enter word to be sorted alphabetically: \") #asks user to input a word to be sorted\n",
    "\n",
    "alphabet_soup(entered) #calls function to sort the word that is in the arguement\n",
    "\n",
    "#end"
   ]
  },
  {
   "cell_type": "markdown",
   "id": "2743d82e-804c-40e3-9282-63f10d41a9c3",
   "metadata": {},
   "source": [
    "#### EMOTICON PROBLEM: Create a function that changes specific words into emoticons. Given a sentence \r",
    "#### as a string, replace the words smile, grin, sad and mad with their corresponding emoticon"
   ]
  },
  {
   "cell_type": "code",
   "execution_count": null,
   "id": "8fdf045a-0f57-4146-b179-52531a4f71cf",
   "metadata": {},
   "outputs": [],
   "source": [
    "#start\n",
    "\n",
    "#function\n",
    "def emotify(sentence):\n",
    "    emoticons = {\"smile\":\":)\", \"grin\":\":D\", \"sad\":\":((\", \"mad\":\">:(\"} #list for emoticons\n",
    "    words = sentence.split() #seperates every word in a string\n",
    "\n",
    "    for i, word in enumerate(words): #for loop to check every word in a string\n",
    "        if word.lower() in emoticons: #lowercases every word for checking of emoticons\n",
    "            words[i] = emoticons[word.lower()] #sets word to become emote\n",
    "\n",
    "    return \" \".join(words)#pastes words back into the sentence\n",
    "\n",
    "\n",
    "entered = input(\"Enter a sentence to emotify: \")\n",
    "\n",
    "emotify(entered)\n",
    "\n",
    "#end"
   ]
  },
  {
   "cell_type": "markdown",
   "id": "aca30328-2ddb-49bd-aef9-0c7d71e5da8a",
   "metadata": {},
   "source": [
    "#### UNPACKING LIST PROBLEM: Unpack the list writeyourcodehere into three variables, being first,\r",
    "#### middle, and last, with middle being everything in between the first and last element. Then print all three \r",
    "#### variables."
   ]
  },
  {
   "cell_type": "code",
   "execution_count": null,
   "id": "f7c9dbee-0a9c-4443-82eb-a1640060c637",
   "metadata": {},
   "outputs": [],
   "source": [
    "#start\n",
    "\n",
    "#list of numbers\n",
    "writeyourcodehere = [10,9,8,7,6,5,4,3,2,1]\n",
    "first, *middle, last = writeyourcodehere #extended unpacking and then assigning them into values\n",
    "\n",
    "#prints first, middle, and last elements from the list\n",
    "print(\"first:\", first)\n",
    "print(\"middle:\", middle)\n",
    "print(\"last:\", last)\n",
    "\n",
    "#end"
   ]
  },
  {
   "cell_type": "code",
   "execution_count": null,
   "id": "a63634bd-aced-46b9-9914-37031ecab048",
   "metadata": {},
   "outputs": [],
   "source": []
  }
 ],
 "metadata": {
  "kernelspec": {
   "display_name": "Python 3 (ipykernel)",
   "language": "python",
   "name": "python3"
  },
  "language_info": {
   "codemirror_mode": {
    "name": "ipython",
    "version": 3
   },
   "file_extension": ".py",
   "mimetype": "text/x-python",
   "name": "python",
   "nbconvert_exporter": "python",
   "pygments_lexer": "ipython3",
   "version": "3.12.4"
  }
 },
 "nbformat": 4,
 "nbformat_minor": 5
}
